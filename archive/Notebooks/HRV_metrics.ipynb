{
 "cells": [
  {
   "cell_type": "code",
   "execution_count": null,
   "metadata": {},
   "outputs": [],
   "source": [
    "\n",
    "#HRV Metrics \n",
    "\n",
    "# Flatten the array to make it one-dimensional\n",
    "rpeaks_flat = rpeaks.flatten()\n",
    "\n",
    "# Calculate RR intervals\n",
    "rr_intervals = np.diff(rpeaks_flat)\n",
    "\n",
    "# Time-domain HRV measures\n",
    "mean_rr_interval = np.mean(rr_intervals)\n",
    "\n",
    "# SDNN (Standard Deviation of NN Intervals): A measure of overall variability in the heart rate.\n",
    "sdnn = np.std(rr_intervals)\n",
    "\n",
    "# RMSSD (Root Mean Square of Successive Differences): Reflects short-term variability and parasympathetic nervous system activity.\n",
    "rmssd = np.sqrt(np.mean(np.diff(rr_intervals)**2))\n",
    "\n",
    "# NN50: Number of pairs of successive RR intervals differing by more than 50 ms.\n",
    "nn50 = np.sum(np.abs(np.diff(rr_intervals)) > 50)\n",
    "\n",
    "# Display HRV measures\n",
    "print(\"Mean RR Interval:\", mean_rr_interval, \"ms\")\n",
    "\n",
    "#SDNN provides a measure of the overall variability in the heart rate, reflecting the combined \n",
    "#influences of both the sympathetic and parasympathetic nervous systems. A higher SDNN value \n",
    "#indicates greater variability in the heart rate, suggesting a more adaptable autonomic nervous system.\n",
    "print(\"SDNN:\", sdnn, \"ms (Standard Deviation of NN Intervals)\")\n",
    "\n",
    "print(\"RMSSD:\", rmssd, \"ms (Root Mean Square of Successive Differences)\")\n",
    "print(\"NN50:\", nn50, \" (Number of pairs of successive RR intervals differing by more than 50 ms)\")\n"
   ]
  }
 ],
 "metadata": {
  "language_info": {
   "name": "python"
  },
  "orig_nbformat": 4
 },
 "nbformat": 4,
 "nbformat_minor": 2
}
